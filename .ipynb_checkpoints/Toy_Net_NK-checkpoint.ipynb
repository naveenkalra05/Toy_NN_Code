{
 "cells": [
  {
   "cell_type": "code",
   "execution_count": 1,
   "metadata": {},
   "outputs": [],
   "source": [
    "import numpy as np"
   ]
  },
  {
   "cell_type": "code",
   "execution_count": 2,
   "metadata": {},
   "outputs": [],
   "source": [
    "def sigmoid(x,deriv= False):\n",
    "\tif(deriv==True):\n",
    "\t    return (x*(1-x))\n",
    "\n",
    "\treturn (1/(1+np.exp(-x)))"
   ]
  },
  {
   "cell_type": "code",
   "execution_count": 6,
   "metadata": {},
   "outputs": [],
   "source": [
    "ip=np.array([[0,0,1],                  #l0 is 4*3 matrix\n",
    "             [0,1,1], \n",
    "             [1,0,1],\n",
    "             [1,1,1]])\n",
    "y=np.array([[0],[1],[1],[0]])                       #y is 4*1 matrix\n",
    "\n",
    "np.random.seed(98)\n",
    "syn0 = 2*np.random.random((3,4)) - 1        #3*4\n",
    "syn1 = 2*np.random.random((4,1)) - 1        #4*1\n",
    "#l1=np.empty((4,4))"
   ]
  },
  {
   "cell_type": "code",
   "execution_count": 8,
   "metadata": {},
   "outputs": [
    {
     "name": "stdout",
     "output_type": "stream",
     "text": [
      "Error:0.003321422972313478\n",
      "Error:0.003047355573567719\n",
      "Error:0.002829418363535455\n",
      "Error:0.0026509333933636557\n",
      "Error:0.0025013935607413177\n",
      "Error:0.0023738146761523296\n",
      "[[0.0018171 ]\n",
      " [0.99770081]\n",
      " [0.998032  ]\n",
      " [0.00296917]]\n"
     ]
    }
   ],
   "source": [
    "for i in range(60000):\n",
    "    l0=ip\n",
    "    l1= sigmoid(np.dot(l0,syn0))               #4*4\n",
    "    l2= sigmoid(np.dot(l1,syn1))               #4*1\n",
    "\n",
    "    l2_error= y - l2                             #4*1\n",
    "    if (i% 10000) == 0:\n",
    "        print(\"Error:\"+str(np.mean(np.abs((l2_error)))))\n",
    "    \n",
    "    l2_error_delta=l2_error*sigmoid(l2,deriv=True)     #4*1\n",
    "    l1_error=l2_error_delta.dot(syn1.T)             #4*4\n",
    "    #l1_error= np.dot(l2_error_delta,(syn1.T))\n",
    "    l1_error_delta=l1_error*sigmoid(l1,deriv=True)  #4*4\n",
    "    syn1+= ((l1.T).dot(l2_error_delta))\n",
    "    syn0+= ((l0.T).dot(l1_error_delta))\n",
    "    \n",
    "print(l2)"
   ]
  }
 ],
 "metadata": {
  "kernelspec": {
   "display_name": "Python 3",
   "language": "python",
   "name": "python3"
  },
  "language_info": {
   "codemirror_mode": {
    "name": "ipython",
    "version": 3
   },
   "file_extension": ".py",
   "mimetype": "text/x-python",
   "name": "python",
   "nbconvert_exporter": "python",
   "pygments_lexer": "ipython3",
   "version": "3.6.5"
  }
 },
 "nbformat": 4,
 "nbformat_minor": 2
}
